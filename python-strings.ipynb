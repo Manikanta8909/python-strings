{
 "cells": [
  {
   "cell_type": "markdown",
   "id": "d47463d4",
   "metadata": {},
   "source": [
    "# Strings \n",
    " \n",
    "* Strings are used to store and manipulate textual data, such as words, sentences, and symbols.\n",
    "\n",
    "* They are immutable, which means their contents cannot be changed after creation. \n",
    "\n",
    "* Any operation that seems to modify a string actually creates a new string.\n",
    "\n",
    "* String is a sequential data type.\n",
    "\n",
    "* Strings are surrounded by either single qoutes ,double qoutes ,triple double qoutes.\n",
    "\n",
    "* String is an immutable data type, meaning that once you have created a string, you cannot change it."
   ]
  },
  {
   "cell_type": "code",
   "execution_count": 1,
   "id": "4767cfb3",
   "metadata": {
    "scrolled": true
   },
   "outputs": [
    {
     "name": "stdout",
     "output_type": "stream",
     "text": [
      "['__add__', '__class__', '__contains__', '__delattr__', '__dir__', '__doc__', '__eq__', '__format__', '__ge__', '__getattribute__', '__getitem__', '__getnewargs__', '__getstate__', '__gt__', '__hash__', '__init__', '__init_subclass__', '__iter__', '__le__', '__len__', '__lt__', '__mod__', '__mul__', '__ne__', '__new__', '__reduce__', '__reduce_ex__', '__repr__', '__rmod__', '__rmul__', '__setattr__', '__sizeof__', '__str__', '__subclasshook__', 'capitalize', 'casefold', 'center', 'count', 'encode', 'endswith', 'expandtabs', 'find', 'format', 'format_map', 'index', 'isalnum', 'isalpha', 'isascii', 'isdecimal', 'isdigit', 'isidentifier', 'islower', 'isnumeric', 'isprintable', 'isspace', 'istitle', 'isupper', 'join', 'ljust', 'lower', 'lstrip', 'maketrans', 'partition', 'removeprefix', 'removesuffix', 'replace', 'rfind', 'rindex', 'rjust', 'rpartition', 'rsplit', 'rstrip', 'split', 'splitlines', 'startswith', 'strip', 'swapcase', 'title', 'translate', 'upper', 'zfill']\n"
     ]
    }
   ],
   "source": [
    "print(dir(str))"
   ]
  },
  {
   "cell_type": "code",
   "execution_count": 2,
   "id": "313f023e",
   "metadata": {},
   "outputs": [],
   "source": [
    "#help(str)"
   ]
  },
  {
   "cell_type": "code",
   "execution_count": 3,
   "id": "fcb5c5a2",
   "metadata": {
    "scrolled": false
   },
   "outputs": [
    {
     "data": {
      "text/plain": [
       "\"to begin to toboggan first buy a toboggan,,,,,,, but don't buy too big a toboggan. \\ntoo big a toboggan is too big a toboggan to buy to begin to toboggan.\""
      ]
     },
     "execution_count": 3,
     "metadata": {},
     "output_type": "execute_result"
    }
   ],
   "source": [
    "pp ='''To begin to toboggan first buy a toboggan,,,,,,, but don't buy too big a toboggan. \n",
    "Too big a toboggan is too big a toboggan to buy to begin to toboggan.'''\n",
    "pp.lower()"
   ]
  },
  {
   "cell_type": "code",
   "execution_count": 4,
   "id": "a9f2d01e",
   "metadata": {},
   "outputs": [],
   "source": [
    "x =pp.lower()"
   ]
  },
  {
   "cell_type": "markdown",
   "id": "57fc034e",
   "metadata": {},
   "source": [
    "## Splitlines\n",
    " \n",
    "* list of the lines in the string, breaking at line boundaries.\n",
    "\n",
    "*  Line breaks are not included in the resulting list unless keepends is given and true."
   ]
  },
  {
   "cell_type": "code",
   "execution_count": 5,
   "id": "f86adbbc",
   "metadata": {},
   "outputs": [
    {
     "data": {
      "text/plain": [
       "[\"to begin to toboggan first buy a toboggan,,,,,,, but don't buy too big a toboggan. \",\n",
       " 'too big a toboggan is too big a toboggan to buy to begin to toboggan.']"
      ]
     },
     "execution_count": 5,
     "metadata": {},
     "output_type": "execute_result"
    }
   ],
   "source": [
    "x.splitlines()   #help(x.splitlines)"
   ]
  },
  {
   "cell_type": "markdown",
   "id": "629245ca",
   "metadata": {},
   "source": [
    "## Strips \n",
    "\n",
    "* Return a copy of the string with leading and trailing whitespace removed.\n",
    "    \n",
    "* If chars is given and not None, remove characters in chars instead."
   ]
  },
  {
   "cell_type": "code",
   "execution_count": 6,
   "id": "c80d9a29",
   "metadata": {},
   "outputs": [
    {
     "data": {
      "text/plain": [
       "\"to begin to toboggan first buy a toboggan,,,,,,, but don't buy too big a toboggan. \\ntoo big a toboggan is too big a toboggan to buy to begin to toboggan.\""
      ]
     },
     "execution_count": 6,
     "metadata": {},
     "output_type": "execute_result"
    }
   ],
   "source": [
    "x.strip()                 #help(x.strip)"
   ]
  },
  {
   "cell_type": "markdown",
   "id": "2126be51",
   "metadata": {},
   "source": [
    "## rstrip\n",
    "\n",
    "* work same as strip but from right to left."
   ]
  },
  {
   "cell_type": "code",
   "execution_count": 7,
   "id": "09e22fc5",
   "metadata": {},
   "outputs": [
    {
     "data": {
      "text/plain": [
       "\"to begin to toboggan first buy a toboggan,,,,,,, but don't buy too big a toboggan. \\ntoo big a toboggan is too big a toboggan to buy to begin to toboggan.\""
      ]
     },
     "execution_count": 7,
     "metadata": {},
     "output_type": "execute_result"
    }
   ],
   "source": [
    "x.rstrip()                  #help(x.rstrip)"
   ]
  },
  {
   "cell_type": "markdown",
   "id": "2afe02fa",
   "metadata": {},
   "source": [
    "## Partition\n",
    "\n",
    "* The string into three parts using the given separator.\n",
    "    \n",
    "* This will search for the separator in the string.  \n",
    "\n",
    "* If the separator is found,\n",
    "    returns a 3-tuple containing the part before the separator, the separator\n",
    "    itself, and the part after it.\n",
    "    \n",
    "* If the separator is not found, returns a 3-tuple containing the original string\n",
    "    and two empty strings.\n"
   ]
  },
  {
   "cell_type": "code",
   "execution_count": 8,
   "id": "6eb3113c",
   "metadata": {},
   "outputs": [
    {
     "data": {
      "text/plain": [
       "('', 'do', \"n't care about any one\")"
      ]
     },
     "execution_count": 8,
     "metadata": {},
     "output_type": "execute_result"
    }
   ],
   "source": [
    "d= \"don't care about any one\" \n",
    "d.partition('do')             #help(d.partition)"
   ]
  },
  {
   "cell_type": "markdown",
   "id": "875b571e",
   "metadata": {},
   "source": [
    "##  rpatition\n",
    "\n",
    "* work same as partition but from right to left"
   ]
  },
  {
   "cell_type": "code",
   "execution_count": 9,
   "id": "4b053df9",
   "metadata": {},
   "outputs": [
    {
     "data": {
      "text/plain": [
       "(\"don't care about any \", 'one', '')"
      ]
     },
     "execution_count": 9,
     "metadata": {},
     "output_type": "execute_result"
    }
   ],
   "source": [
    " d.rpartition('one')           #help(d.rpartition)"
   ]
  },
  {
   "cell_type": "code",
   "execution_count": 10,
   "id": "c13997af",
   "metadata": {},
   "outputs": [],
   "source": [
    "a ='1232'\n",
    "b = 'abc'\n",
    "c ='143abc'\n",
    "d ='.3'\n",
    "e ='m'\n",
    "f ='calss room'\n",
    "g = 'Class Room'\n",
    "h ='TAME'"
   ]
  },
  {
   "cell_type": "markdown",
   "id": "7898b68b",
   "metadata": {},
   "source": [
    "## isnumeric \n",
    "\n",
    "* True if the string is a numeric string, False otherwise.\n",
    "    \n",
    "* A string is numeric if all characters in the string are numeric and there is at least one character in the string.\n"
   ]
  },
  {
   "cell_type": "code",
   "execution_count": 11,
   "id": "c1b3916d",
   "metadata": {},
   "outputs": [
    {
     "data": {
      "text/plain": [
       "True"
      ]
     },
     "execution_count": 11,
     "metadata": {},
     "output_type": "execute_result"
    }
   ],
   "source": [
    "a.isnumeric()                       #help(a.isnumeric)"
   ]
  },
  {
   "cell_type": "markdown",
   "id": "ac717660",
   "metadata": {},
   "source": [
    "# isalpha \n",
    "\n",
    "* True if the string is an alphabetic string, False otherwise.\n",
    "    \n",
    "* A string is alphabetic if all characters in the string are alphabetic and there is at least one character in the string."
   ]
  },
  {
   "cell_type": "code",
   "execution_count": 12,
   "id": "7dac68cf",
   "metadata": {},
   "outputs": [
    {
     "data": {
      "text/plain": [
       "True"
      ]
     },
     "execution_count": 12,
     "metadata": {},
     "output_type": "execute_result"
    }
   ],
   "source": [
    "b.isalpha()                        #help(b.isalpha)"
   ]
  },
  {
   "cell_type": "markdown",
   "id": "306339c9",
   "metadata": {},
   "source": [
    "# isalnum\n",
    "\n",
    "* True if the string is an alpha-numeric string, False otherwise.\n",
    "    \n",
    "* A string is alpha-numeric if all characters in the string are alpha-numeric and there is at least one character in the string.\n",
    "\n"
   ]
  },
  {
   "cell_type": "code",
   "execution_count": 13,
   "id": "c2920b2c",
   "metadata": {},
   "outputs": [
    {
     "data": {
      "text/plain": [
       "True"
      ]
     },
     "execution_count": 13,
     "metadata": {},
     "output_type": "execute_result"
    }
   ],
   "source": [
    "c.isalnum()                              #help(c.isalnum)"
   ]
  },
  {
   "cell_type": "markdown",
   "id": "d7c427c7",
   "metadata": {},
   "source": [
    "# isdecimal\n",
    "\n",
    "* True if the string is a decimal string, False otherwise.\n",
    "    \n",
    "* A string is a decimal string if all characters in the string are decimal and\n",
    "    there is at least one character in the string."
   ]
  },
  {
   "cell_type": "code",
   "execution_count": 14,
   "id": "1bab7fd9",
   "metadata": {},
   "outputs": [
    {
     "data": {
      "text/plain": [
       "True"
      ]
     },
     "execution_count": 14,
     "metadata": {},
     "output_type": "execute_result"
    }
   ],
   "source": [
    "d = '6'\n",
    "d.isdecimal()                                               #help(d.isdecimal)"
   ]
  },
  {
   "cell_type": "markdown",
   "id": "d0299c06",
   "metadata": {},
   "source": [
    "# isdigit\n",
    "\n",
    "* True if the string is a digit string, False otherwise.\n",
    "    \n",
    "* A string is a digit string if all characters in the string are digits and there\n",
    "    is at least one character in the string.\n"
   ]
  },
  {
   "cell_type": "code",
   "execution_count": 15,
   "id": "d013526f",
   "metadata": {},
   "outputs": [
    {
     "data": {
      "text/plain": [
       "True"
      ]
     },
     "execution_count": 15,
     "metadata": {},
     "output_type": "execute_result"
    }
   ],
   "source": [
    "a.isdigit()                                                  #help(a.isdigit)"
   ]
  },
  {
   "cell_type": "markdown",
   "id": "c5b3e6f7",
   "metadata": {},
   "source": [
    "# isascii\n",
    "\n",
    "* True if all characters in the string are ASCII, False otherwise.\n",
    "    \n",
    "* ASCII characters have code points in the range U+0000-U+007F.\n",
    "    Empty string is ASCII too.\n"
   ]
  },
  {
   "cell_type": "code",
   "execution_count": 16,
   "id": "30b1f913",
   "metadata": {},
   "outputs": [
    {
     "data": {
      "text/plain": [
       "True"
      ]
     },
     "execution_count": 16,
     "metadata": {},
     "output_type": "execute_result"
    }
   ],
   "source": [
    "e.isascii()                                                 #help(e.isascii)"
   ]
  },
  {
   "cell_type": "markdown",
   "id": "f4abd921",
   "metadata": {},
   "source": [
    "# isidentifier\n",
    "\n",
    "* True if the string is a valid Python identifier, False otherwise.\n",
    "    \n",
    "* Call keyword.iskeyword(s) to test whether string s is a reserved identifier,\n",
    "    such as \"def\" or \"class\".\n"
   ]
  },
  {
   "cell_type": "code",
   "execution_count": 17,
   "id": "4807a145",
   "metadata": {},
   "outputs": [
    {
     "data": {
      "text/plain": [
       "True"
      ]
     },
     "execution_count": 17,
     "metadata": {},
     "output_type": "execute_result"
    }
   ],
   "source": [
    "'str'.isidentifier()                                    #help('str'.isidentifier)"
   ]
  },
  {
   "cell_type": "markdown",
   "id": "6c434f73",
   "metadata": {},
   "source": [
    "# islower\n",
    "\n",
    "* True if the string is a lowercase string, False otherwise.\n",
    "    \n",
    "* A string is lowercase if all cased characters in the string are lowercase and\n",
    "    there is at least one cased character in the string.\n"
   ]
  },
  {
   "cell_type": "code",
   "execution_count": 18,
   "id": "f73e9288",
   "metadata": {},
   "outputs": [
    {
     "data": {
      "text/plain": [
       "True"
      ]
     },
     "execution_count": 18,
     "metadata": {},
     "output_type": "execute_result"
    }
   ],
   "source": [
    "f.islower()                                            #help(f.islower)"
   ]
  },
  {
   "cell_type": "markdown",
   "id": "4b007d30",
   "metadata": {},
   "source": [
    "# isupper \n",
    "\n",
    "* True if the string is an uppercase string, False otherwise.\n",
    "    \n",
    "* A string is uppercase if all cased characters in the string are uppercase and\n",
    "    there is at least one cased character in the string."
   ]
  },
  {
   "cell_type": "code",
   "execution_count": 19,
   "id": "9546fc30",
   "metadata": {},
   "outputs": [
    {
     "data": {
      "text/plain": [
       "True"
      ]
     },
     "execution_count": 19,
     "metadata": {},
     "output_type": "execute_result"
    }
   ],
   "source": [
    "h.isupper()                                               #help(h.isupper)"
   ]
  },
  {
   "cell_type": "markdown",
   "id": "9be8d7f5",
   "metadata": {},
   "source": [
    "# isspace\n",
    "\n",
    "* True if the string is a whitespace string, False otherwise.\n",
    "    \n",
    "* A string is whitespace if all characters in the string are whitespace and there\n",
    "    is at least one character in the string.\n"
   ]
  },
  {
   "cell_type": "code",
   "execution_count": 20,
   "id": "15e8c18d",
   "metadata": {},
   "outputs": [
    {
     "data": {
      "text/plain": [
       "True"
      ]
     },
     "execution_count": 20,
     "metadata": {},
     "output_type": "execute_result"
    }
   ],
   "source": [
    "' '.isspace()                                              #help(''.isspace)"
   ]
  },
  {
   "cell_type": "markdown",
   "id": "0f78ca9b",
   "metadata": {},
   "source": [
    "# istitle\n",
    "\n",
    "* True if the string is a title-cased string, False otherwise.\n",
    "    \n",
    "* In a title-cased string, upper- and title-case characters may only\n",
    "    follow uncased characters and lowercase characters only cased ones.\n"
   ]
  },
  {
   "cell_type": "code",
   "execution_count": 21,
   "id": "b800e04b",
   "metadata": {},
   "outputs": [
    {
     "data": {
      "text/plain": [
       "True"
      ]
     },
     "execution_count": 21,
     "metadata": {},
     "output_type": "execute_result"
    }
   ],
   "source": [
    "g.istitle()                                              #help(g.istitle)"
   ]
  },
  {
   "cell_type": "markdown",
   "id": "c61bf268",
   "metadata": {},
   "source": [
    "# isprintable\n",
    "\n",
    "* True if the string is printable, False otherwise.\n",
    "    \n",
    "* A string is printable if all of its characters are considered printable in\n",
    "    repr() or if it is empty."
   ]
  },
  {
   "cell_type": "code",
   "execution_count": 22,
   "id": "0c183ebf",
   "metadata": {},
   "outputs": [
    {
     "data": {
      "text/plain": [
       "True"
      ]
     },
     "execution_count": 22,
     "metadata": {},
     "output_type": "execute_result"
    }
   ],
   "source": [
    "'rames'.isprintable()                                   #help(p.isprintable)"
   ]
  }
 ],
 "metadata": {
  "celltoolbar": "Raw Cell Format",
  "kernelspec": {
   "display_name": "Python 3 (ipykernel)",
   "language": "python",
   "name": "python3"
  },
  "language_info": {
   "codemirror_mode": {
    "name": "ipython",
    "version": 3
   },
   "file_extension": ".py",
   "mimetype": "text/x-python",
   "name": "python",
   "nbconvert_exporter": "python",
   "pygments_lexer": "ipython3",
   "version": "3.11.2"
  }
 },
 "nbformat": 4,
 "nbformat_minor": 5
}
